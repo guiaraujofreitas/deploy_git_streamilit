{
 "cells": [
  {
   "cell_type": "code",
   "execution_count": 7,
   "id": {
    "local_id": "f292946f",
    "remote_id": "8ad0c8db"
   },
   "metadata": {
    "ExecuteTime": {
     "end_time": "2023-05-01T15:14:24.160559Z",
     "start_time": "2023-05-01T15:14:24.147025Z"
    },
    "local_metadata": {
     "ExecuteTime": {
      "end_time": "2023-05-01T14:56:45.110993Z",
      "start_time": "2023-05-01T14:56:45.099823Z"
     }
    },
    "remote_metadata": {
     "ExecuteTime": {
      "end_time": "2023-05-01T15:03:42.887538Z",
      "start_time": "2023-05-01T15:03:42.857258Z"
     }
    }
   },
   "outputs": [
    {
     "name": "stdout",
     "output_type": "stream",
     "text": [
      "main - celula 1\n"
     ]
    }
   ],
   "source": [
    "print ('main - celula 1')\n",
    "\n"
   ]
  },
  {
   "cell_type": "code",
   "execution_count": 8,
   "id": {
    "local_id": "0fd6910d",
    "remote_id": "b4befa84"
   },
   "metadata": {
    "ExecuteTime": {
     "end_time": "2023-05-01T15:14:26.183423Z",
     "start_time": "2023-05-01T15:14:26.168130Z"
    },
    "local_metadata": {
     "ExecuteTime": {
      "end_time": "2023-05-01T14:56:50.411672Z",
      "start_time": "2023-05-01T14:56:50.402784Z"
     }
    },
    "remote_metadata": {
     "ExecuteTime": {
      "end_time": "2023-05-01T15:03:48.937008Z",
      "start_time": "2023-05-01T15:03:48.928870Z"
     }
    }
   },
   "outputs": [
    {
     "name": "stdout",
     "output_type": "stream",
     "text": [
      "dev - celula 2\n"
     ]
    }
   ],
   "source": [
    "print ('dev - celula 2')\n"
   ]
  },
  {
   "cell_type": "code",
   "execution_count": 4,
   "id": {
    "local_id": "f9e1fcac",
    "remote_id": "9b42401e"
   },
   "metadata": {
    "ExecuteTime": {
     "end_time": "2023-05-01T15:15:54.557083Z",
     "start_time": "2023-05-01T15:15:54.548364Z"
    },
    "local_metadata": {
     "ExecuteTime": {
      "end_time": "2023-05-01T14:56:58.183420Z",
      "start_time": "2023-05-01T14:56:58.165602Z"
     }
    },
    "remote_metadata": {
     "ExecuteTime": {
      "end_time": "2023-05-01T15:04:02.836514Z",
      "start_time": "2023-05-01T15:04:02.821510Z"
     }
    }
   },
   "outputs": [
    {
     "name": "stdout",
     "output_type": "stream",
     "text": [
      "dev - celula 3\n"
     ]
    }
   ],
   "source": [
    "print ('dev - celula 3')\n",
    "\n"
   ]
  }
 ],
 "metadata": {
  "kernelspec": {
   "display_name": "Python 3 (ipykernel)",
   "language": "python",
   "name": "python3"
  },
  "language_info": {
   "codemirror_mode": {
    "name": "ipython",
    "version": 3
   },
   "file_extension": ".py",
   "mimetype": "text/x-python",
   "name": "python",
   "nbconvert_exporter": "python",
   "pygments_lexer": "ipython3",
   "version": "3.8.10"
  }
 },
 "nbformat": 4,
 "nbformat_minor": 5
}
