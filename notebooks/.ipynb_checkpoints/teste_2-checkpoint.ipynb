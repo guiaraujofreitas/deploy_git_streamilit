{
 "cells": [
  {
   "cell_type": "code",
   "execution_count": 1,
   "id": "371f7d47",
   "metadata": {
    "ExecuteTime": {
     "end_time": "2023-04-30T21:05:27.476341Z",
     "start_time": "2023-04-30T21:05:27.447902Z"
    }
   },
   "outputs": [
    {
     "name": "stdout",
     "output_type": "stream",
     "text": [
      "dev - ceula 1\n"
     ]
    }
   ],
   "source": [
    "print ('dev - ceula 1')"
   ]
  },
  {
   "cell_type": "code",
   "execution_count": 2,
   "id": "301fc077",
   "metadata": {
    "ExecuteTime": {
     "end_time": "2023-04-30T21:05:51.504379Z",
     "start_time": "2023-04-30T21:05:51.487050Z"
    }
   },
   "outputs": [
    {
     "name": "stdout",
     "output_type": "stream",
     "text": [
      "dev - ceula 2\n"
     ]
    }
   ],
   "source": [
    "print ('dev - ceula 2')"
   ]
  },
  {
   "cell_type": "code",
   "execution_count": 3,
   "id": "4f50d322",
   "metadata": {
    "ExecuteTime": {
     "end_time": "2023-04-30T21:05:53.572423Z",
     "start_time": "2023-04-30T21:05:53.558251Z"
    }
   },
   "outputs": [
    {
     "name": "stdout",
     "output_type": "stream",
     "text": [
      "dev - ceula 3\n"
     ]
    }
   ],
   "source": [
    "print ('dev - ceula 3')"
   ]
  }
 ],
 "metadata": {
  "kernelspec": {
   "display_name": "Python 3 (ipykernel)",
   "language": "python",
   "name": "python3"
  },
  "language_info": {
   "codemirror_mode": {
    "name": "ipython",
    "version": 3
   },
   "file_extension": ".py",
   "mimetype": "text/x-python",
   "name": "python",
   "nbconvert_exporter": "python",
   "pygments_lexer": "ipython3",
   "version": "3.8.10"
  }
 },
 "nbformat": 4,
 "nbformat_minor": 5
}
